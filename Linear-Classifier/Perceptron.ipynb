{
 "cells": [
  {
   "cell_type": "code",
   "execution_count": 11,
   "metadata": {},
   "outputs": [],
   "source": [
    "import numpy as np\n",
    "import matplotlib.pyplot as plt\n",
    "%matplotlib inline"
   ]
  },
  {
   "cell_type": "markdown",
   "metadata": {},
   "source": [
    "# Perceptron"
   ]
  },
  {
   "cell_type": "markdown",
   "metadata": {},
   "source": [
    "$x_i\\in\\mathbb{R}^2$  for $i=1,...,n$\n",
    "\n",
    "$y_i\\in\\{-1,1\\}$"
   ]
  },
  {
   "cell_type": "code",
   "execution_count": 12,
   "metadata": {},
   "outputs": [
    {
     "data": {
      "image/png": "[encoded data removed]",
      "text/plain": [
       "<Figure size 432x288 with 1 Axes>"
      ]
     },
     "metadata": {
      "needs_background": "light"
     },
     "output_type": "display_data"
    }
   ],
   "source": [
    "x = np.ones([10,3])\n",
    "y = -np.ones(10)\n",
    "noise = np.random.randn(10,2)\n",
    "x[:,1:] = np.array([[3, 5, 6, 7, 8, 2, 5, 6, 1, 9],\\\n",
    "                    [1, 2, 3, 4, 5, 6, 7, 8, 9, 0]]).transpose()\\\n",
    "                    + noise\n",
    "for i in range(10):\n",
    "    if x[i,2] >= 5.5:\n",
    "        y[i] = 1\n",
    "        plt.scatter(x[i,1], x[i,2], marker='s', c='c', s=200)   # plot all x with y=1\n",
    "    else:\n",
    "        plt.scatter(x[i,1], x[i,2], marker='+', c='tomato', s=200)   # plot all x with y=-1\n",
    "\n",
    "plt.show()"
   ]
  },
  {
   "cell_type": "markdown",
   "metadata": {},
   "source": [
    "## Algorithm"
   ]
  },
  {
   "cell_type": "markdown",
   "metadata": {},
   "source": [
    "For $k=1,...$ until all $y_k w_k^{\\top}x_k> 0$\n",
    "\n",
    "If $y_k w_k^{\\top}x_k\\leq 0$\n",
    "\n",
    "$w_{k+1}=w_{k}+y_kx_k$\n",
    "\n",
    "Else\n",
    "\n",
    "$w_{k+1}=w_{k}$"
   ]
  },
  {
   "cell_type": "code",
   "execution_count": 13,
   "metadata": {},
   "outputs": [
    {
     "name": "stdout",
     "output_type": "stream",
     "text": [
      "[  4.47315595  54.64633143  42.47713464  25.29332462  21.8546411\n",
      "  70.67914568  25.76690082  46.98195701 110.5193994  106.80576817]\n",
      "[ -4.         -11.63189568  15.53197992]\n"
     ]
    }
   ],
   "source": [
    "w = np.zeros(3)\n",
    "\n",
    "while((y*x.dot(w)<=0).any()):  \n",
    "    for i in range(10):\n",
    "        if y[i]*w.transpose().dot(x[i]) <= 0:\n",
    "            w = w + y[i]*x[i]\n",
    "\n",
    "print(y*x.dot(w))\n",
    "print(w)"
   ]
  },
  {
   "cell_type": "markdown",
   "metadata": {},
   "source": [
    "## Optimal Linear Classifier\n",
    "\n",
    "$y = \\begin{cases}\n",
    "1&w^{\\top}x\\geq0\\\\\n",
    "-1&w^{\\top}x<0\n",
    "\\end{cases}$"
   ]
  },
  {
   "cell_type": "code",
   "execution_count": 14,
   "metadata": {},
   "outputs": [],
   "source": [
    "def f(x0):\n",
    "    # beta0 for bias\n",
    "    x1 = ( - w[0] - w[1] * x0) / w[2]\n",
    "    return x1"
   ]
  },
  {
   "cell_type": "code",
   "execution_count": 15,
   "metadata": {
    "scrolled": true
   },
   "outputs": [
    {
     "name": "stdout",
     "output_type": "stream",
     "text": [
      "Plot the decision boundary\n"
     ]
    },
    {
     "data": {
      "image/png": "[encoded data removed]",
      "text/plain": [
       "<Figure size 432x288 with 1 Axes>"
      ]
     },
     "metadata": {
      "needs_background": "light"
     },
     "output_type": "display_data"
    }
   ],
   "source": [
    "for i in range(10):\n",
    "    if x[i,2] >= 5.5:\n",
    "        plt.scatter(x[i,1], x[i,2], marker='s', c='c', s=200)   # plot all x with y=1\n",
    "    else:\n",
    "        plt.scatter(x[i,1], x[i,2], marker='+', c='tomato', s=200)   # plot all x with y=-1\n",
    "        \n",
    "x_hat_0 = np.linspace(0, 10, 10)\n",
    "x_hat_1 = f(x_hat_0)\n",
    "plt.plot(x_hat_0, x_hat_1, c='r')\n",
    "print(\"Plot the decision boundary\")\n",
    "plt.show()"
   ]
  },
  {
   "cell_type": "markdown",
   "metadata": {},
   "source": [
    "It illustrates that the margin is not maximized."
   ]
  },
  {
   "cell_type": "code",
   "execution_count": null,
   "metadata": {},
   "outputs": [],
   "source": []
  }
 ],
 "metadata": {
  "kernelspec": {
   "display_name": "Python 3",
   "language": "python",
   "name": "python3"
  },
  "language_info": {
   "codemirror_mode": {
    "name": "ipython",
    "version": 3
   },
   "file_extension": ".py",
   "mimetype": "text/x-python",
   "name": "python",
   "nbconvert_exporter": "python",
   "pygments_lexer": "ipython3",
   "version": "3.7.0"
  }
 },
 "nbformat": 4,
 "nbformat_minor": 2
}
